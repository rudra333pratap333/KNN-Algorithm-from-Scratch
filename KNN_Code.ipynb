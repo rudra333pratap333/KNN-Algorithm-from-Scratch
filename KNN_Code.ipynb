{
 "cells": [
  {
   "cell_type": "code",
   "execution_count": 7,
   "metadata": {},
   "outputs": [],
   "source": [
    "import numpy as np\n",
    "import pandas as pd\n",
    "from matplotlib import pyplot as plt\n",
    "from matplotlib import style\n",
    "style.use('ggplot')\n",
    "import warnings\n",
    "warnings.filterwarnings('ignore')"
   ]
  },
  {
   "cell_type": "code",
   "execution_count": 8,
   "metadata": {},
   "outputs": [
    {
     "data": {
      "text/plain": [
       "<matplotlib.collections.PathCollection at 0x7f7ee28604f0>"
      ]
     },
     "execution_count": 8,
     "metadata": {},
     "output_type": "execute_result"
    },
    {
     "data": {
      "image/png": "[encoded data removed]",
      "text/plain": [
       "<Figure size 432x288 with 1 Axes>"
      ]
     },
     "metadata": {},
     "output_type": "display_data"
    }
   ],
   "source": [
    "dataset = {'k':[[1,2],[2,3],[3,1],[4,3],[3,3],[3,4] ], 'r':[[6,5],[7,7],[8,6],[6,7],[7,6]]}\n",
    "new_feature = [5, 7]\n",
    "[[plt.scatter(ii[0], ii[1], color = i) for ii in dataset[i]] for i in dataset]\n",
    "plt.scatter(new_feature[0], new_feature[1], color = 'y')"
   ]
  },
  {
   "cell_type": "code",
   "execution_count": 9,
   "metadata": {},
   "outputs": [],
   "source": [
    "from operator import itemgetter"
   ]
  },
  {
   "cell_type": "code",
   "execution_count": 10,
   "metadata": {},
   "outputs": [],
   "source": [
    "def e_distance(arr, brr):\n",
    "    arr = (arr-brr)**2\n",
    "    return (np.sum(arr))**0.5\n",
    "    \n",
    "    \n",
    "def knn(data, predict, k =3):\n",
    "    distance = []\n",
    "    for group in data:\n",
    "        for feature in data[group]:\n",
    "            distance.append([e_distance(np.array(feature), np.array(predict)), group])\n",
    "    predictions =  [i[1] for i in sorted(distance, key = itemgetter(0))[:k]]\n",
    "    res = {}\n",
    "    for i in predictions:\n",
    "        res[i] = 0\n",
    "    for i in predictions:\n",
    "        res[i] = res[i]+1\n",
    "    key_max = max(res.keys(), key=(lambda k: res[k]))\n",
    "    return key_max\n",
    "    "
   ]
  },
  {
   "cell_type": "code",
   "execution_count": 11,
   "metadata": {},
   "outputs": [
    {
     "name": "stdout",
     "output_type": "stream",
     "text": [
      "r\n"
     ]
    }
   ],
   "source": [
    "dataset = {'k':[[1,2],[2,3],[3,1]], 'r':[[6,5],[7,7],[8,6]]}\n",
    "new_feature = [5, 7]\n",
    "print(knn(dataset, new_feature, 3)) #taking 3 nearest neighbour "
   ]
  },
  {
   "cell_type": "code",
   "execution_count": null,
   "metadata": {
    "collapsed": true
   },
   "outputs": [],
   "source": [
    "#here object belogs to 'r' class"
   ]
  }
 ],
 "metadata": {
  "kernelspec": {
   "display_name": "Python 3",
   "language": "python",
   "name": "python3"
  },
  "language_info": {
   "codemirror_mode": {
    "name": "ipython",
    "version": 3
   },
   "file_extension": ".py",
   "mimetype": "text/x-python",
   "name": "python",
   "nbconvert_exporter": "python",
   "pygments_lexer": "ipython3",
   "version": "3.8.6"
  }
 },
 "nbformat": 4,
 "nbformat_minor": 4
}
